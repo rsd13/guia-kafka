{
 "cells": [
  {
   "cell_type": "markdown",
   "metadata": {},
   "source": [
    "# Guia proyecto tutorial"
   ]
  },
  {
   "cell_type": "markdown",
   "metadata": {},
   "source": [
    "## Crear proyecto"
   ]
  },
  {
   "cell_type": "markdown",
   "metadata": {},
   "source": [
    "1. Nuevo proyecto\n",
    "2. Maven y versión de SDK 1.8 (java 8)\n",
    "3. Da nombre a GroupId, ArficatdId, Version\n",
    "\n",
    "## Agregar dependencias POM.xml\n",
    "\n",
    "1. Instalar las dependencias de Kafka-client https://mvnrepository.com/artifact/org.apache.kafka\n",
    "```xml\n",
    "<dependency>\n",
    "    <groupId>org.apache.kafka</groupId>\n",
    "    <artifactId>kafka-clients</artifactId>\n",
    "    <version>3.0.0</version>\n",
    "</dependency>\n",
    "```\n",
    "\n",
    "2. Instalar las dependencias de slf4j-simple https://mvnrepository.com/artifact/org.slf4j/slf4j-simple\n",
    "\n",
    "```xml\n",
    "<dependency>\n",
    "    <groupId>org.slf4j</groupId>\n",
    "    <artifactId>slf4j-simple</artifactId>\n",
    "    <version>1.7.32</version>\n",
    "    <!--   <scope>test</scope> -->\n",
    "</dependency>\n",
    "```"
   ]
  },
  {
   "cell_type": "markdown",
   "metadata": {},
   "source": [
    "## Crear package Java\n",
    "\n",
    "1. Crear un package llamado: com.github.rsd13.kafka\n",
    "2. Crear un package dentro del nuevo llamado tutorial1\n",
    "3. Crear una clase dentro de com.github.rsd13.kafka.tutorial1 llamado ProducerDemo"
   ]
  },
  {
   "cell_type": "code",
   "execution_count": null,
   "metadata": {},
   "outputs": [],
   "source": []
  }
 ],
 "metadata": {
  "kernelspec": {
   "display_name": "Python 3",
   "language": "python",
   "name": "python3"
  },
  "language_info": {
   "codemirror_mode": {
    "name": "ipython",
    "version": 3
   },
   "file_extension": ".py",
   "mimetype": "text/x-python",
   "name": "python",
   "nbconvert_exporter": "python",
   "pygments_lexer": "ipython3",
   "version": "3.7.4"
  }
 },
 "nbformat": 4,
 "nbformat_minor": 2
}
