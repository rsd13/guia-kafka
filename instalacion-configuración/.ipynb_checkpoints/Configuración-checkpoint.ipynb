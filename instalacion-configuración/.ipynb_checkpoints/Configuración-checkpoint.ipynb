{
 "cells": [
  {
   "cell_type": "markdown",
   "metadata": {},
   "source": [
    "# Configuración"
   ]
  },
  {
   "cell_type": "markdown",
   "metadata": {},
   "source": [
    "## Zookeeper\n",
    "Como se ha dicho en la teoria, Kafka necesita de Zookeeper para funcionar. Para configurarlo:\n",
    "1. Situarsee en la carpeta de Kafka y escribir el siguiente comando para iniciar Zookeper con las configuraciones por defecto:\n",
    "```bash\n",
    "zookeeper-server-start config/zookeeper.properties\n",
    "```\n",
    "2. Una vez visto que funciona hay que hacer unos cambios en el fichero config/zookeeper.properties en la propiedad dataDir=/tmp/zookeeper, ya que es mejor tener un directorio fijo que no temporal. Para ello en el directorio de kafka (/Users/rafaelsoriadiez/kafka_2.13-3.0.0) se crea una carpeta 'data':\n",
    "```bash\n",
    "mkdir data\n",
    "mkdir data/zookeeper\n",
    "```\n",
    "3. Una vez creado los nuevos directorio se sustituye el atributo.\n",
    "```bash\n",
    "dataDir=/Users/rafaelsoriadiez/kafka_2.13-3.0.0/data/zookeeper\n",
    "```\n",
    "4. Para saber que esta bien se inicia otra vez Zookeeper con el comando del paso 1 y en el directorio data/zookeeper tiene que haber información\n"
   ]
  },
  {
   "cell_type": "markdown",
   "metadata": {},
   "source": [
    "## Kafka\n",
    "De la misma manera que se ha hecho con Zookeeper se va a crear en el directorio data una carpeta llamada kafka para guardar la información de kafka\n",
    "1. se crea el directorio\n",
    "```bash\n",
    "mkdir data/kafka\n",
    "```\n",
    "2. Se abre el fichero de configuración de Kafka\n",
    "```bash\n",
    "nano config/server.properties\n",
    "```\n",
    "3. Se pone el nuevo directorio de log.\n",
    "```console\n",
    "log.dirs=/Users/rafaelsoriadiez/kafka_2.13-3.0.0/data/kafka\n",
    "```\n",
    "4. Para saber que esta bien se inicia kafka y en el directorio data/data tiene que haber información\n",
    "```bash\n",
    "kafka-server-start.sh config/server.properties\n",
    "```"
   ]
  },
  {
   "cell_type": "markdown",
   "metadata": {},
   "source": [
    "### Topics\n",
    "A la hora de crear topics se puede crear con propiedades por defecto que los valores se puede modificar en el fichero de server.properties.\n",
    "\n",
    "- Particiones: se puede cambiar el número de particiones que por defecto es 1 con el atributo 'num.partitions'\n",
    "```bash\n",
    "#num.partitions=1\n",
    "num.partitions=3\n",
    "```"
   ]
  },
  {
   "cell_type": "markdown",
   "metadata": {},
   "source": [
    "# Condktor\n",
    "\n",
    "Es un interfaz gráfico para controlar todos lo relacionado con el cluster de kafka: https://www.conduktor.io/"
   ]
  }
 ],
 "metadata": {
  "kernelspec": {
   "display_name": "Python 3",
   "language": "python",
   "name": "python3"
  },
  "language_info": {
   "codemirror_mode": {
    "name": "ipython",
    "version": 3
   },
   "file_extension": ".py",
   "mimetype": "text/x-python",
   "name": "python",
   "nbconvert_exporter": "python",
   "pygments_lexer": "ipython3",
   "version": "3.7.4"
  }
 },
 "nbformat": 4,
 "nbformat_minor": 2
}
